{
 "cells": [
  {
   "cell_type": "code",
   "execution_count": null,
   "metadata": {},
   "outputs": [],
   "source": [
    "Нашей компании нужно сгруппировать клиентов для АБ-тестов. Алгоритм группировки очень простой - взять ID клиента \n",
    "(состоит из 5-7 цифр, например 7412567) и найти сумму всех его цифр. Получившееся число и является номером группы, в \n",
    "которую входит данный клиент.\n",
    "\n",
    "Для того, чтобы понять, насколько хорош такой простой алгоритм, тебе нужно написать следующие диагностические функции:\n",
    "\n",
    "Функция, которая подсчитывает число покупателей, попадающих в каждую группу, если нумерация ID сквозная и начинается с 0. \n",
    "На вход функция получает целое число n_customers (количество клиентов).\n",
    "\n",
    "Функция, аналогичная первой, если ID начинается с произвольного числа. На вход функция получает целые числа: n_customers \n",
    "(количество клиентов) и n_first_id (первый ID в последовательности)."
   ]
  },
  {
   "cell_type": "code",
   "execution_count": 71,
   "metadata": {},
   "outputs": [],
   "source": [
    "def count_groups_var_1(n_customers):\n",
    "    groups = {}\n",
    "    customers_id = -1\n",
    "    for i in range(n_customers):\n",
    "        customers_id += 1\n",
    "        customers_id_for_sum = customers_id\n",
    "        sum_ = 0    \n",
    "        while customers_id_for_sum > 0:\n",
    "            sum_ += customers_id_for_sum % 10\n",
    "            customers_id_for_sum //= 10\n",
    "        groups[sum_] = groups[sum_] + 1 if sum_ in groups else 1\n",
    "    return groups       "
   ]
  },
  {
   "cell_type": "code",
   "execution_count": 72,
   "metadata": {},
   "outputs": [],
   "source": [
    "def count_groups_var_2(n_customers, n_first_id):\n",
    "    groups = {}\n",
    "    customers_id = n_first_id - 1\n",
    "    for i in range(n_customers):\n",
    "        customers_id += 1\n",
    "        customers_id_for_sum = customers_id\n",
    "        sum_ = 0    \n",
    "        while customers_id_for_sum > 0:\n",
    "            sum_ += customers_id_for_sum % 10\n",
    "            customers_id_for_sum //= 10\n",
    "        groups[sum_] = groups[sum_] + 1 if sum_ in groups else 1\n",
    "    return groups"
   ]
  }
 ],
 "metadata": {
  "kernelspec": {
   "display_name": "Python 3",
   "language": "python",
   "name": "python3"
  },
  "language_info": {
   "codemirror_mode": {
    "name": "ipython",
    "version": 3
   },
   "file_extension": ".py",
   "mimetype": "text/x-python",
   "name": "python",
   "nbconvert_exporter": "python",
   "pygments_lexer": "ipython3",
   "version": "3.8.3"
  }
 },
 "nbformat": 4,
 "nbformat_minor": 4
}
